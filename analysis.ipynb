{
 "cells": [
  {
   "cell_type": "markdown",
   "id": "8a23f921-f16b-42af-9b29-bdfafcdc7c88",
   "metadata": {},
   "source": [
    "## Import"
   ]
  },
  {
   "cell_type": "code",
   "execution_count": 202,
   "id": "f6c1b477-408b-4c75-acfe-38c1df9523ed",
   "metadata": {},
   "outputs": [],
   "source": [
    "import re\n",
    "from pathlib import Path"
   ]
  },
  {
   "cell_type": "code",
   "execution_count": 203,
   "id": "b9db1ad2-df92-40e0-9998-efe8c6c22c12",
   "metadata": {},
   "outputs": [],
   "source": [
    "import pandas as pd\n",
    "import altair as alt"
   ]
  },
  {
   "cell_type": "code",
   "execution_count": 204,
   "id": "69676b39-180d-4683-b179-cc7607120767",
   "metadata": {},
   "outputs": [],
   "source": [
    "import altair_theme"
   ]
  },
  {
   "cell_type": "code",
   "execution_count": 205,
   "id": "89d157fe-d787-4525-98d0-29c89de3e091",
   "metadata": {},
   "outputs": [
    {
     "data": {
      "text/plain": [
       "ThemeRegistry.enable('palewire')"
      ]
     },
     "execution_count": 205,
     "metadata": {},
     "output_type": "execute_result"
    }
   ],
   "source": [
    "alt.themes.register('palewire', altair_theme.theme)\n",
    "alt.themes.enable('palewire')"
   ]
  },
  {
   "cell_type": "markdown",
   "id": "f96ac6c5-b57b-4268-8c88-b0191e686b10",
   "metadata": {},
   "source": [
    "## Extract"
   ]
  },
  {
   "cell_type": "markdown",
   "id": "bdef7dee-0bc2-4039-a268-58d906df3d5d",
   "metadata": {},
   "source": [
    "Convert the PDF document we received via FOIA into a text file"
   ]
  },
  {
   "cell_type": "code",
   "execution_count": 206,
   "id": "dee05cf8-5335-481c-b4f7-1806da9e451e",
   "metadata": {},
   "outputs": [],
   "source": [
    "!pdftotext ./input/RemotePilotListSep2022.pdf input/list.txt"
   ]
  },
  {
   "cell_type": "markdown",
   "id": "f986a70c-02e2-46d4-9913-cd5433e4e24f",
   "metadata": {},
   "source": [
    "Take a peek at it"
   ]
  },
  {
   "cell_type": "code",
   "execution_count": 207,
   "id": "946ad86d-b085-415d-9a00-79f9630f35b6",
   "metadata": {},
   "outputs": [
    {
     "name": "stdout",
     "output_type": "stream",
     "text": [
      "LastName FMName DOI\n",
      "AADLAND LAUREN EL 2/23/2018\n",
      "AAKER\n",
      "ALEXANDRA 2/14/2017\n",
      "AAKRE\n",
      "KEITH ELME 7/31/2020\n",
      "AAL‐ANUBI YHOSHUA L\n",
      "3/9/2021\n",
      "AALBERS MICHAEL T 5/13/2021\n",
      "AAMER\n"
     ]
    }
   ],
   "source": [
    "!head input/list.txt"
   ]
  },
  {
   "cell_type": "markdown",
   "id": "d6ad08a7-bbec-4c07-ba41-31abd35894aa",
   "metadata": {},
   "source": [
    "Get it into Python"
   ]
  },
  {
   "cell_type": "code",
   "execution_count": 208,
   "id": "d172f214-0261-48f8-89fb-aa8172a1de11",
   "metadata": {},
   "outputs": [],
   "source": [
    "input_dir = Path(\"./input\")"
   ]
  },
  {
   "cell_type": "code",
   "execution_count": 209,
   "id": "b7003188-d537-40e5-8ca6-f6bd81149cd5",
   "metadata": {},
   "outputs": [],
   "source": [
    "with open(input_dir / \"list.txt\", \"r\") as f:\n",
    "    txt_data = f.read().split()"
   ]
  },
  {
   "cell_type": "code",
   "execution_count": 210,
   "id": "e5cf7e08-0564-4fba-b13e-6bf0d6ea37f1",
   "metadata": {},
   "outputs": [
    {
     "data": {
      "text/plain": [
       "['LastName',\n",
       " 'FMName',\n",
       " 'DOI',\n",
       " 'AADLAND',\n",
       " 'LAUREN',\n",
       " 'EL',\n",
       " '2/23/2018',\n",
       " 'AAKER',\n",
       " 'ALEXANDRA',\n",
       " '2/14/2017']"
      ]
     },
     "execution_count": 210,
     "metadata": {},
     "output_type": "execute_result"
    }
   ],
   "source": [
    "txt_data[:10]"
   ]
  },
  {
   "cell_type": "markdown",
   "id": "15d042cf-9ac8-4658-b3f0-83dc96410dde",
   "metadata": {},
   "source": [
    "Cut the header row"
   ]
  },
  {
   "cell_type": "code",
   "execution_count": 211,
   "id": "7fcbe0a0-bf9b-445d-99e2-e34c65cfb87a",
   "metadata": {},
   "outputs": [
    {
     "data": {
      "text/plain": [
       "'DOI'"
      ]
     },
     "execution_count": 211,
     "metadata": {},
     "output_type": "execute_result"
    }
   ],
   "source": [
    "txt_data.pop(0)\n",
    "txt_data.pop(0)\n",
    "txt_data.pop(0)"
   ]
  },
  {
   "cell_type": "code",
   "execution_count": 212,
   "id": "516a6476-ba6f-4d5f-b366-34a1973a0818",
   "metadata": {},
   "outputs": [
    {
     "data": {
      "text/plain": [
       "['AADLAND',\n",
       " 'LAUREN',\n",
       " 'EL',\n",
       " '2/23/2018',\n",
       " 'AAKER',\n",
       " 'ALEXANDRA',\n",
       " '2/14/2017',\n",
       " 'AAKRE',\n",
       " 'KEITH',\n",
       " 'ELME']"
      ]
     },
     "execution_count": 212,
     "metadata": {},
     "output_type": "execute_result"
    }
   ],
   "source": [
    "txt_data[:10]"
   ]
  },
  {
   "cell_type": "markdown",
   "id": "b6580775-0bbc-4656-b69f-3d0a121af7f8",
   "metadata": {},
   "source": [
    "## Consolidate"
   ]
  },
  {
   "cell_type": "markdown",
   "id": "077b93e7-0778-4f3f-83d1-372f5ed08e30",
   "metadata": {},
   "source": [
    "Group rows"
   ]
  },
  {
   "cell_type": "code",
   "execution_count": 213,
   "id": "bb261827-a348-47f5-9ff1-46a2e7a08fc5",
   "metadata": {},
   "outputs": [],
   "source": [
    "date_pattern = re.compile(\"\\d{1,2}/\\d{1,2}/\\d{4}\")"
   ]
  },
  {
   "cell_type": "code",
   "execution_count": 216,
   "id": "ad52bcad-8607-40af-a557-a765796f7993",
   "metadata": {},
   "outputs": [],
   "source": [
    "def parse_tokens(token_list):\n",
    "    row_list = []\n",
    "    row = dict()\n",
    "    name = \"\"\n",
    "    for t in token_list:\n",
    "        if date_pattern.search(t):\n",
    "            row['name'] = (name.strip() + \" \" + date_pattern.sub(\"\", t)).strip()\n",
    "            row['date'] = date_pattern.search(t).group(0)\n",
    "            row_list.append(row)\n",
    "            row = dict()\n",
    "            name = \"\"\n",
    "        else:\n",
    "            name += \" \" + t\n",
    "    return row_list"
   ]
  },
  {
   "cell_type": "markdown",
   "id": "09f26ecf-2dd3-4f13-b899-74dea910535f",
   "metadata": {},
   "source": [
    "Consolidate them into a single dataframe"
   ]
  },
  {
   "cell_type": "code",
   "execution_count": 217,
   "id": "97733e3b-2a55-4386-bac5-3c593b26c5cd",
   "metadata": {},
   "outputs": [],
   "source": [
    "df = pd.DataFrame(data_list)"
   ]
  },
  {
   "cell_type": "code",
   "execution_count": 218,
   "id": "fdc009c4-cd94-4be8-aadc-4afb22f8e2e1",
   "metadata": {},
   "outputs": [
    {
     "data": {
      "text/html": [
       "<div>\n",
       "<style scoped>\n",
       "    .dataframe tbody tr th:only-of-type {\n",
       "        vertical-align: middle;\n",
       "    }\n",
       "\n",
       "    .dataframe tbody tr th {\n",
       "        vertical-align: top;\n",
       "    }\n",
       "\n",
       "    .dataframe thead th {\n",
       "        text-align: right;\n",
       "    }\n",
       "</style>\n",
       "<table border=\"1\" class=\"dataframe\">\n",
       "  <thead>\n",
       "    <tr style=\"text-align: right;\">\n",
       "      <th></th>\n",
       "      <th>name</th>\n",
       "      <th>date</th>\n",
       "    </tr>\n",
       "  </thead>\n",
       "  <tbody>\n",
       "    <tr>\n",
       "      <th>0</th>\n",
       "      <td>AADLAND LAUREN EL</td>\n",
       "      <td>2/23/2018</td>\n",
       "    </tr>\n",
       "    <tr>\n",
       "      <th>1</th>\n",
       "      <td>AAKER ALEXANDRA</td>\n",
       "      <td>2/14/2017</td>\n",
       "    </tr>\n",
       "    <tr>\n",
       "      <th>2</th>\n",
       "      <td>AAKRE KEITH ELME</td>\n",
       "      <td>7/31/2020</td>\n",
       "    </tr>\n",
       "    <tr>\n",
       "      <th>3</th>\n",
       "      <td>AAL‐ANUBI YHOSHUA L</td>\n",
       "      <td>3/9/2021</td>\n",
       "    </tr>\n",
       "    <tr>\n",
       "      <th>4</th>\n",
       "      <td>AALBERS MICHAEL T</td>\n",
       "      <td>5/13/2021</td>\n",
       "    </tr>\n",
       "  </tbody>\n",
       "</table>\n",
       "</div>"
      ],
      "text/plain": [
       "                  name       date\n",
       "0    AADLAND LAUREN EL  2/23/2018\n",
       "1      AAKER ALEXANDRA  2/14/2017\n",
       "2     AAKRE KEITH ELME  7/31/2020\n",
       "3  AAL‐ANUBI YHOSHUA L   3/9/2021\n",
       "4    AALBERS MICHAEL T  5/13/2021"
      ]
     },
     "execution_count": 218,
     "metadata": {},
     "output_type": "execute_result"
    }
   ],
   "source": [
    "df.head()"
   ]
  },
  {
   "cell_type": "code",
   "execution_count": 219,
   "id": "96900019-2e1f-4674-a88a-765384c9deda",
   "metadata": {},
   "outputs": [
    {
     "name": "stdout",
     "output_type": "stream",
     "text": [
      "<class 'pandas.core.frame.DataFrame'>\n",
      "RangeIndex: 292562 entries, 0 to 292561\n",
      "Data columns (total 2 columns):\n",
      " #   Column  Non-Null Count   Dtype \n",
      "---  ------  --------------   ----- \n",
      " 0   name    292562 non-null  object\n",
      " 1   date    292562 non-null  object\n",
      "dtypes: object(2)\n",
      "memory usage: 4.5+ MB\n"
     ]
    }
   ],
   "source": [
    "df.info()"
   ]
  },
  {
   "cell_type": "markdown",
   "id": "5b10acbc-53a5-411b-b9c0-6780687eebc5",
   "metadata": {},
   "source": [
    "Parse dates"
   ]
  },
  {
   "cell_type": "code",
   "execution_count": 220,
   "id": "7e8798d6-c04a-47ef-b42b-b025097164b4",
   "metadata": {},
   "outputs": [],
   "source": [
    "df['date'] = pd.to_datetime(df['date'])"
   ]
  },
  {
   "cell_type": "markdown",
   "id": "d51a04bf-0d50-4551-9067-10bac8712981",
   "metadata": {},
   "source": [
    "Pull out a couple date parts"
   ]
  },
  {
   "cell_type": "code",
   "execution_count": 221,
   "id": "1a5086b3-3992-41e6-aaed-87922836af25",
   "metadata": {},
   "outputs": [],
   "source": [
    "df['year'] = df['date'].dt.year"
   ]
  },
  {
   "cell_type": "code",
   "execution_count": 222,
   "id": "2cc22c33-8383-465f-a462-b386d4a76e5d",
   "metadata": {},
   "outputs": [],
   "source": [
    "df['yearmonth'] = pd.to_datetime(df['date'].dt.strftime(\"%Y-%m\") + \"-01\")"
   ]
  },
  {
   "cell_type": "markdown",
   "id": "3e07ba00-d40f-4b2c-b6ea-3b7cc550b3c2",
   "metadata": {},
   "source": [
    "## Aggregate"
   ]
  },
  {
   "cell_type": "markdown",
   "id": "83b17206-5fe1-4d58-b6d0-6f1ccfa91d81",
   "metadata": {},
   "source": [
    "Annual totals"
   ]
  },
  {
   "cell_type": "code",
   "execution_count": 223,
   "id": "1183625d-e634-49ad-b2f2-7e4097bc686a",
   "metadata": {},
   "outputs": [],
   "source": [
    "by_year = df.groupby(\"year\").size().rename(\"n\").reset_index().sort_values(\"year\")"
   ]
  },
  {
   "cell_type": "code",
   "execution_count": 224,
   "id": "0352ad8e-d39a-4284-91e4-c3ddeecf3fe9",
   "metadata": {},
   "outputs": [
    {
     "data": {
      "text/html": [
       "<div>\n",
       "<style scoped>\n",
       "    .dataframe tbody tr th:only-of-type {\n",
       "        vertical-align: middle;\n",
       "    }\n",
       "\n",
       "    .dataframe tbody tr th {\n",
       "        vertical-align: top;\n",
       "    }\n",
       "\n",
       "    .dataframe thead th {\n",
       "        text-align: right;\n",
       "    }\n",
       "</style>\n",
       "<table border=\"1\" class=\"dataframe\">\n",
       "  <thead>\n",
       "    <tr style=\"text-align: right;\">\n",
       "      <th></th>\n",
       "      <th>year</th>\n",
       "      <th>n</th>\n",
       "    </tr>\n",
       "  </thead>\n",
       "  <tbody>\n",
       "    <tr>\n",
       "      <th>0</th>\n",
       "      <td>2016</td>\n",
       "      <td>22193</td>\n",
       "    </tr>\n",
       "    <tr>\n",
       "      <th>1</th>\n",
       "      <td>2017</td>\n",
       "      <td>44907</td>\n",
       "    </tr>\n",
       "    <tr>\n",
       "      <th>2</th>\n",
       "      <td>2018</td>\n",
       "      <td>42812</td>\n",
       "    </tr>\n",
       "    <tr>\n",
       "      <th>3</th>\n",
       "      <td>2019</td>\n",
       "      <td>46623</td>\n",
       "    </tr>\n",
       "    <tr>\n",
       "      <th>4</th>\n",
       "      <td>2020</td>\n",
       "      <td>45400</td>\n",
       "    </tr>\n",
       "    <tr>\n",
       "      <th>5</th>\n",
       "      <td>2021</td>\n",
       "      <td>54722</td>\n",
       "    </tr>\n",
       "    <tr>\n",
       "      <th>6</th>\n",
       "      <td>2022</td>\n",
       "      <td>35905</td>\n",
       "    </tr>\n",
       "  </tbody>\n",
       "</table>\n",
       "</div>"
      ],
      "text/plain": [
       "   year      n\n",
       "0  2016  22193\n",
       "1  2017  44907\n",
       "2  2018  42812\n",
       "3  2019  46623\n",
       "4  2020  45400\n",
       "5  2021  54722\n",
       "6  2022  35905"
      ]
     },
     "execution_count": 224,
     "metadata": {},
     "output_type": "execute_result"
    }
   ],
   "source": [
    "by_year"
   ]
  },
  {
   "cell_type": "markdown",
   "id": "0ae065cc-786a-42e0-a894-655cb186e60f",
   "metadata": {},
   "source": [
    "Monthly totals"
   ]
  },
  {
   "cell_type": "code",
   "execution_count": 225,
   "id": "490ed6ec-b6e2-449b-b7ac-a26c1203c2a1",
   "metadata": {},
   "outputs": [],
   "source": [
    "by_yearmonth = df.groupby(\"yearmonth\").size().rename(\"n\").reset_index().sort_values(\"yearmonth\")"
   ]
  },
  {
   "cell_type": "markdown",
   "id": "618f6981-47e6-4dd0-ba68-29f1e407c390",
   "metadata": {},
   "source": [
    "With a trend line"
   ]
  },
  {
   "cell_type": "code",
   "execution_count": 226,
   "id": "bf3a368d-24d8-4203-99f9-fde36416b93a",
   "metadata": {},
   "outputs": [],
   "source": [
    "by_yearmonth['3_month_rolling_average'] = by_yearmonth.n.rolling(3).mean()"
   ]
  },
  {
   "cell_type": "markdown",
   "id": "9195f636-962b-4b35-8cb6-ab1958834b06",
   "metadata": {},
   "source": [
    "And a year over year comparison"
   ]
  },
  {
   "cell_type": "code",
   "execution_count": 227,
   "id": "202ee2fd-7f40-423a-beba-c76616af86c4",
   "metadata": {},
   "outputs": [],
   "source": [
    "by_yearmonth['yoy_change'] = by_yearmonth.n.diff(12)"
   ]
  },
  {
   "cell_type": "code",
   "execution_count": 228,
   "id": "0e8d79c4-715c-41ed-a21d-d64ce83fac6f",
   "metadata": {},
   "outputs": [
    {
     "data": {
      "text/html": [
       "<div>\n",
       "<style scoped>\n",
       "    .dataframe tbody tr th:only-of-type {\n",
       "        vertical-align: middle;\n",
       "    }\n",
       "\n",
       "    .dataframe tbody tr th {\n",
       "        vertical-align: top;\n",
       "    }\n",
       "\n",
       "    .dataframe thead th {\n",
       "        text-align: right;\n",
       "    }\n",
       "</style>\n",
       "<table border=\"1\" class=\"dataframe\">\n",
       "  <thead>\n",
       "    <tr style=\"text-align: right;\">\n",
       "      <th></th>\n",
       "      <th>yearmonth</th>\n",
       "      <th>n</th>\n",
       "      <th>3_month_rolling_average</th>\n",
       "      <th>yoy_change</th>\n",
       "    </tr>\n",
       "  </thead>\n",
       "  <tbody>\n",
       "    <tr>\n",
       "      <th>0</th>\n",
       "      <td>2016-08-01</td>\n",
       "      <td>2595</td>\n",
       "      <td>NaN</td>\n",
       "      <td>NaN</td>\n",
       "    </tr>\n",
       "    <tr>\n",
       "      <th>1</th>\n",
       "      <td>2016-09-01</td>\n",
       "      <td>8710</td>\n",
       "      <td>NaN</td>\n",
       "      <td>NaN</td>\n",
       "    </tr>\n",
       "    <tr>\n",
       "      <th>2</th>\n",
       "      <td>2016-10-01</td>\n",
       "      <td>4432</td>\n",
       "      <td>5245.666667</td>\n",
       "      <td>NaN</td>\n",
       "    </tr>\n",
       "    <tr>\n",
       "      <th>3</th>\n",
       "      <td>2016-11-01</td>\n",
       "      <td>3294</td>\n",
       "      <td>5478.666667</td>\n",
       "      <td>NaN</td>\n",
       "    </tr>\n",
       "    <tr>\n",
       "      <th>4</th>\n",
       "      <td>2016-12-01</td>\n",
       "      <td>3162</td>\n",
       "      <td>3629.333333</td>\n",
       "      <td>NaN</td>\n",
       "    </tr>\n",
       "  </tbody>\n",
       "</table>\n",
       "</div>"
      ],
      "text/plain": [
       "   yearmonth     n  3_month_rolling_average  yoy_change\n",
       "0 2016-08-01  2595                      NaN         NaN\n",
       "1 2016-09-01  8710                      NaN         NaN\n",
       "2 2016-10-01  4432              5245.666667         NaN\n",
       "3 2016-11-01  3294              5478.666667         NaN\n",
       "4 2016-12-01  3162              3629.333333         NaN"
      ]
     },
     "execution_count": 228,
     "metadata": {},
     "output_type": "execute_result"
    }
   ],
   "source": [
    "by_yearmonth.head()"
   ]
  },
  {
   "cell_type": "code",
   "execution_count": 229,
   "id": "71ad55b5-9e21-4e18-915c-68e39bd1375c",
   "metadata": {},
   "outputs": [
    {
     "data": {
      "text/html": [
       "<div>\n",
       "<style scoped>\n",
       "    .dataframe tbody tr th:only-of-type {\n",
       "        vertical-align: middle;\n",
       "    }\n",
       "\n",
       "    .dataframe tbody tr th {\n",
       "        vertical-align: top;\n",
       "    }\n",
       "\n",
       "    .dataframe thead th {\n",
       "        text-align: right;\n",
       "    }\n",
       "</style>\n",
       "<table border=\"1\" class=\"dataframe\">\n",
       "  <thead>\n",
       "    <tr style=\"text-align: right;\">\n",
       "      <th></th>\n",
       "      <th>yearmonth</th>\n",
       "      <th>n</th>\n",
       "      <th>3_month_rolling_average</th>\n",
       "      <th>yoy_change</th>\n",
       "    </tr>\n",
       "  </thead>\n",
       "  <tbody>\n",
       "    <tr>\n",
       "      <th>69</th>\n",
       "      <td>2022-05-01</td>\n",
       "      <td>5414</td>\n",
       "      <td>5249.000000</td>\n",
       "      <td>386.0</td>\n",
       "    </tr>\n",
       "    <tr>\n",
       "      <th>70</th>\n",
       "      <td>2022-06-01</td>\n",
       "      <td>5010</td>\n",
       "      <td>5099.666667</td>\n",
       "      <td>-3.0</td>\n",
       "    </tr>\n",
       "    <tr>\n",
       "      <th>71</th>\n",
       "      <td>2022-07-01</td>\n",
       "      <td>4699</td>\n",
       "      <td>5041.000000</td>\n",
       "      <td>128.0</td>\n",
       "    </tr>\n",
       "    <tr>\n",
       "      <th>72</th>\n",
       "      <td>2022-08-01</td>\n",
       "      <td>1456</td>\n",
       "      <td>3721.666667</td>\n",
       "      <td>-3338.0</td>\n",
       "    </tr>\n",
       "    <tr>\n",
       "      <th>73</th>\n",
       "      <td>2022-09-01</td>\n",
       "      <td>311</td>\n",
       "      <td>2155.333333</td>\n",
       "      <td>-3768.0</td>\n",
       "    </tr>\n",
       "  </tbody>\n",
       "</table>\n",
       "</div>"
      ],
      "text/plain": [
       "    yearmonth     n  3_month_rolling_average  yoy_change\n",
       "69 2022-05-01  5414              5249.000000       386.0\n",
       "70 2022-06-01  5010              5099.666667        -3.0\n",
       "71 2022-07-01  4699              5041.000000       128.0\n",
       "72 2022-08-01  1456              3721.666667     -3338.0\n",
       "73 2022-09-01   311              2155.333333     -3768.0"
      ]
     },
     "execution_count": 229,
     "metadata": {},
     "output_type": "execute_result"
    }
   ],
   "source": [
    "by_yearmonth.tail()"
   ]
  },
  {
   "cell_type": "markdown",
   "id": "7e2abdbd-9d89-4cf9-afdd-456cf72c3b70",
   "metadata": {},
   "source": [
    "Clip extremes on each end of the time range"
   ]
  },
  {
   "cell_type": "code",
   "execution_count": 230,
   "id": "300e5f96-bad9-46aa-8217-2c3b5e6c4d76",
   "metadata": {},
   "outputs": [],
   "source": [
    "trimmed_yearmonth = by_yearmonth[\n",
    "    (by_yearmonth['yearmonth'] > \"2016-12-01\") &\n",
    "    (by_yearmonth['yearmonth'] < \"2022-08-01\")\n",
    "]"
   ]
  },
  {
   "cell_type": "code",
   "execution_count": 231,
   "id": "2d2ffafe-427a-4aec-bb9e-db990aed90a8",
   "metadata": {},
   "outputs": [
    {
     "data": {
      "text/html": [
       "<div>\n",
       "<style scoped>\n",
       "    .dataframe tbody tr th:only-of-type {\n",
       "        vertical-align: middle;\n",
       "    }\n",
       "\n",
       "    .dataframe tbody tr th {\n",
       "        vertical-align: top;\n",
       "    }\n",
       "\n",
       "    .dataframe thead th {\n",
       "        text-align: right;\n",
       "    }\n",
       "</style>\n",
       "<table border=\"1\" class=\"dataframe\">\n",
       "  <thead>\n",
       "    <tr style=\"text-align: right;\">\n",
       "      <th></th>\n",
       "      <th>yearmonth</th>\n",
       "      <th>n</th>\n",
       "      <th>3_month_rolling_average</th>\n",
       "      <th>yoy_change</th>\n",
       "    </tr>\n",
       "  </thead>\n",
       "  <tbody>\n",
       "    <tr>\n",
       "      <th>5</th>\n",
       "      <td>2017-01-01</td>\n",
       "      <td>3988</td>\n",
       "      <td>3481.333333</td>\n",
       "      <td>NaN</td>\n",
       "    </tr>\n",
       "    <tr>\n",
       "      <th>6</th>\n",
       "      <td>2017-02-01</td>\n",
       "      <td>3990</td>\n",
       "      <td>3713.333333</td>\n",
       "      <td>NaN</td>\n",
       "    </tr>\n",
       "    <tr>\n",
       "      <th>7</th>\n",
       "      <td>2017-03-01</td>\n",
       "      <td>4940</td>\n",
       "      <td>4306.000000</td>\n",
       "      <td>NaN</td>\n",
       "    </tr>\n",
       "    <tr>\n",
       "      <th>8</th>\n",
       "      <td>2017-04-01</td>\n",
       "      <td>4070</td>\n",
       "      <td>4333.333333</td>\n",
       "      <td>NaN</td>\n",
       "    </tr>\n",
       "    <tr>\n",
       "      <th>9</th>\n",
       "      <td>2017-05-01</td>\n",
       "      <td>4117</td>\n",
       "      <td>4375.666667</td>\n",
       "      <td>NaN</td>\n",
       "    </tr>\n",
       "  </tbody>\n",
       "</table>\n",
       "</div>"
      ],
      "text/plain": [
       "   yearmonth     n  3_month_rolling_average  yoy_change\n",
       "5 2017-01-01  3988              3481.333333         NaN\n",
       "6 2017-02-01  3990              3713.333333         NaN\n",
       "7 2017-03-01  4940              4306.000000         NaN\n",
       "8 2017-04-01  4070              4333.333333         NaN\n",
       "9 2017-05-01  4117              4375.666667         NaN"
      ]
     },
     "execution_count": 231,
     "metadata": {},
     "output_type": "execute_result"
    }
   ],
   "source": [
    "trimmed_yearmonth.head()"
   ]
  },
  {
   "cell_type": "code",
   "execution_count": 232,
   "id": "f51dfb78-13b2-464d-9afa-27b95f50568d",
   "metadata": {},
   "outputs": [
    {
     "data": {
      "text/html": [
       "<div>\n",
       "<style scoped>\n",
       "    .dataframe tbody tr th:only-of-type {\n",
       "        vertical-align: middle;\n",
       "    }\n",
       "\n",
       "    .dataframe tbody tr th {\n",
       "        vertical-align: top;\n",
       "    }\n",
       "\n",
       "    .dataframe thead th {\n",
       "        text-align: right;\n",
       "    }\n",
       "</style>\n",
       "<table border=\"1\" class=\"dataframe\">\n",
       "  <thead>\n",
       "    <tr style=\"text-align: right;\">\n",
       "      <th></th>\n",
       "      <th>yearmonth</th>\n",
       "      <th>n</th>\n",
       "      <th>3_month_rolling_average</th>\n",
       "      <th>yoy_change</th>\n",
       "    </tr>\n",
       "  </thead>\n",
       "  <tbody>\n",
       "    <tr>\n",
       "      <th>67</th>\n",
       "      <td>2022-03-01</td>\n",
       "      <td>5458</td>\n",
       "      <td>4713.333333</td>\n",
       "      <td>-206.0</td>\n",
       "    </tr>\n",
       "    <tr>\n",
       "      <th>68</th>\n",
       "      <td>2022-04-01</td>\n",
       "      <td>4875</td>\n",
       "      <td>4927.000000</td>\n",
       "      <td>-384.0</td>\n",
       "    </tr>\n",
       "    <tr>\n",
       "      <th>69</th>\n",
       "      <td>2022-05-01</td>\n",
       "      <td>5414</td>\n",
       "      <td>5249.000000</td>\n",
       "      <td>386.0</td>\n",
       "    </tr>\n",
       "    <tr>\n",
       "      <th>70</th>\n",
       "      <td>2022-06-01</td>\n",
       "      <td>5010</td>\n",
       "      <td>5099.666667</td>\n",
       "      <td>-3.0</td>\n",
       "    </tr>\n",
       "    <tr>\n",
       "      <th>71</th>\n",
       "      <td>2022-07-01</td>\n",
       "      <td>4699</td>\n",
       "      <td>5041.000000</td>\n",
       "      <td>128.0</td>\n",
       "    </tr>\n",
       "  </tbody>\n",
       "</table>\n",
       "</div>"
      ],
      "text/plain": [
       "    yearmonth     n  3_month_rolling_average  yoy_change\n",
       "67 2022-03-01  5458              4713.333333      -206.0\n",
       "68 2022-04-01  4875              4927.000000      -384.0\n",
       "69 2022-05-01  5414              5249.000000       386.0\n",
       "70 2022-06-01  5010              5099.666667        -3.0\n",
       "71 2022-07-01  4699              5041.000000       128.0"
      ]
     },
     "execution_count": 232,
     "metadata": {},
     "output_type": "execute_result"
    }
   ],
   "source": [
    "trimmed_yearmonth.tail()"
   ]
  },
  {
   "cell_type": "markdown",
   "id": "1bf32eef-e0b4-437f-8dc8-264ae27ccf2b",
   "metadata": {},
   "source": [
    "## Chart"
   ]
  },
  {
   "cell_type": "code",
   "execution_count": 233,
   "id": "a843cf9b-4b9b-4c93-83ba-99dd5586bec0",
   "metadata": {},
   "outputs": [
    {
     "name": "stderr",
     "output_type": "stream",
     "text": [
      "/home/palewire/.local/share/virtualenvs/faa-drone-license-analysis-2lpWnKuy/lib/python3.9/site-packages/altair/utils/core.py:317: FutureWarning: iteritems is deprecated and will be removed in a future version. Use .items instead.\n",
      "  for col_name, dtype in df.dtypes.iteritems():\n"
     ]
    },
    {
     "data": {
      "text/html": [
       "\n",
       "<div id=\"altair-viz-63a186a6e85946ca979dc2e251d5e958\"></div>\n",
       "<script type=\"text/javascript\">\n",
       "  var VEGA_DEBUG = (typeof VEGA_DEBUG == \"undefined\") ? {} : VEGA_DEBUG;\n",
       "  (function(spec, embedOpt){\n",
       "    let outputDiv = document.currentScript.previousElementSibling;\n",
       "    if (outputDiv.id !== \"altair-viz-63a186a6e85946ca979dc2e251d5e958\") {\n",
       "      outputDiv = document.getElementById(\"altair-viz-63a186a6e85946ca979dc2e251d5e958\");\n",
       "    }\n",
       "    const paths = {\n",
       "      \"vega\": \"https://cdn.jsdelivr.net/npm//vega@5?noext\",\n",
       "      \"vega-lib\": \"https://cdn.jsdelivr.net/npm//vega-lib?noext\",\n",
       "      \"vega-lite\": \"https://cdn.jsdelivr.net/npm//vega-lite@4.17.0?noext\",\n",
       "      \"vega-embed\": \"https://cdn.jsdelivr.net/npm//vega-embed@6?noext\",\n",
       "    };\n",
       "\n",
       "    function maybeLoadScript(lib, version) {\n",
       "      var key = `${lib.replace(\"-\", \"\")}_version`;\n",
       "      return (VEGA_DEBUG[key] == version) ?\n",
       "        Promise.resolve(paths[lib]) :\n",
       "        new Promise(function(resolve, reject) {\n",
       "          var s = document.createElement('script');\n",
       "          document.getElementsByTagName(\"head\")[0].appendChild(s);\n",
       "          s.async = true;\n",
       "          s.onload = () => {\n",
       "            VEGA_DEBUG[key] = version;\n",
       "            return resolve(paths[lib]);\n",
       "          };\n",
       "          s.onerror = () => reject(`Error loading script: ${paths[lib]}`);\n",
       "          s.src = paths[lib];\n",
       "        });\n",
       "    }\n",
       "\n",
       "    function showError(err) {\n",
       "      outputDiv.innerHTML = `<div class=\"error\" style=\"color:red;\">${err}</div>`;\n",
       "      throw err;\n",
       "    }\n",
       "\n",
       "    function displayChart(vegaEmbed) {\n",
       "      vegaEmbed(outputDiv, spec, embedOpt)\n",
       "        .catch(err => showError(`Javascript Error: ${err.message}<br>This usually means there's a typo in your chart specification. See the javascript console for the full traceback.`));\n",
       "    }\n",
       "\n",
       "    if(typeof define === \"function\" && define.amd) {\n",
       "      requirejs.config({paths});\n",
       "      require([\"vega-embed\"], displayChart, err => showError(`Error loading script: ${err.message}`));\n",
       "    } else {\n",
       "      maybeLoadScript(\"vega\", \"5\")\n",
       "        .then(() => maybeLoadScript(\"vega-lite\", \"4.17.0\"))\n",
       "        .then(() => maybeLoadScript(\"vega-embed\", \"6\"))\n",
       "        .catch(showError)\n",
       "        .then(() => displayChart(vegaEmbed));\n",
       "    }\n",
       "  })({\"config\": {\"view\": {\"width\": 500, \"height\": 300, \"stroke\": 0}, \"padding\": {\"top\": 15, \"bottom\": 15, \"left\": 10, \"right\": 10}, \"background\": \"#ffffff\", \"title\": {\"anchor\": \"start\", \"font\": \"\\\"Libre Franklin\\\",\\\"Helvetica\\\",\\\"Liberation Sans\\\",Arial,sans-serif\", \"color\": \"#000000\", \"fontSize\": 20, \"fontWeight\": \"bold\", \"lineHeight\": 26, \"subtitleFont\": \"\\\"Libre Franklin\\\",\\\"Helvetica\\\",\\\"Liberation Sans\\\",Arial,sans-serif\", \"subtitleFontSize\": 14, \"subtitleLineHeight\": 18, \"subtitlePadding\": 5, \"offset\": 20}, \"arc\": {\"fill\": \"#cecece\"}, \"area\": {\"fill\": \"#cecece\"}, \"line\": {\"stroke\": \"#cecece\", \"strokeWidth\": 3}, \"path\": {\"stroke\": \"#cecece\"}, \"rect\": {\"fill\": \"#cecece\"}, \"bar\": {\"fill\": \"#cecece\"}, \"point\": {\"stroke\": \"#cecece\"}, \"axis\": {\"titleFont\": \"\\\"Libre Franklin\\\",\\\"Helvetica\\\",\\\"Liberation Sans\\\",Arial,sans-serif\", \"titleFontSize\": 14, \"titleFontWeight\": \"normal\", \"labelFont\": \"\\\"Libre Franklin\\\",\\\"Helvetica\\\",\\\"Liberation Sans\\\",Arial,sans-serif\", \"labelFontSize\": 12, \"labelFontWeight\": \"normal\", \"tickColor\": \"#727272\", \"labelColor\": \"#727272\"}, \"axisX\": {\"labelAngle\": 0, \"labelPadding\": 10, \"labelFlush\": true, \"tickSize\": 0, \"domain\": false, \"grid\": false}, \"axisY\": {\"labelBaseline\": \"middle\", \"labelPadding\": 5, \"labelFlush\": true, \"tickSize\": 0, \"titleAlign\": \"left\", \"titleAngle\": 0, \"titleX\": -45, \"titleY\": -11, \"domain\": false}, \"legend\": {\"titleFont\": \"\\\"Libre Franklin\\\",\\\"Helvetica\\\",\\\"Liberation Sans\\\",Arial,sans-serif\", \"titleFontSize\": 14, \"titleFontWeight\": \"normal\", \"symbolType\": \"square\", \"labelFont\": \"\\\"Libre Franklin\\\",\\\"Helvetica\\\",\\\"Liberation Sans\\\",Arial,sans-serif\", \"labelFontSize\": 13}, \"range\": {\"heatmap\": [\"#5e5e5e\", \"#727272\", \"#858585\", \"#989898\", \"#aaaaaa\", \"#bcbcbc\", \"#c4c4c4\", \"#cecece\", \"#e0e0e0\", \"#f0f0f0\", \"#ffffff\"], \"ordinal\": [\"#5e5e5e\", \"#727272\", \"#858585\", \"#989898\", \"#aaaaaa\", \"#bcbcbc\", \"#c4c4c4\", \"#cecece\", \"#e0e0e0\", \"#f0f0f0\", \"#ffffff\"], \"ramp\": [\"#5e5e5e\", \"#727272\", \"#858585\", \"#989898\", \"#aaaaaa\", \"#bcbcbc\", \"#c4c4c4\", \"#cecece\", \"#e0e0e0\", \"#f0f0f0\", \"#ffffff\"]}}, \"layer\": [{\"mark\": {\"type\": \"bar\", \"opacity\": 0.8}, \"encoding\": {\"tooltip\": [{\"field\": \"yearmonth\", \"type\": \"temporal\"}, {\"field\": \"n\", \"type\": \"quantitative\"}], \"x\": {\"field\": \"yearmonth\", \"timeUnit\": \"yearmonth\", \"title\": null, \"type\": \"temporal\"}, \"y\": {\"field\": \"n\", \"title\": null, \"type\": \"quantitative\"}}}, {\"mark\": {\"type\": \"line\", \"color\": \"#989898\"}, \"encoding\": {\"x\": {\"field\": \"yearmonth\", \"timeUnit\": \"yearmonth\", \"title\": null, \"type\": \"temporal\"}, \"y\": {\"field\": \"3_month_rolling_average\", \"type\": \"quantitative\"}}}], \"data\": {\"name\": \"data-1d055b1f2f2b3bfebf9fc1450ec4b1cd\"}, \"title\": \"New FAA drone licenses by month\", \"width\": 500, \"$schema\": \"https://vega.github.io/schema/vega-lite/v4.17.0.json\", \"datasets\": {\"data-1d055b1f2f2b3bfebf9fc1450ec4b1cd\": [{\"yearmonth\": \"2017-01-01T00:00:00\", \"n\": 3988, \"3_month_rolling_average\": 3481.3333333333335, \"yoy_change\": null}, {\"yearmonth\": \"2017-02-01T00:00:00\", \"n\": 3990, \"3_month_rolling_average\": 3713.3333333333335, \"yoy_change\": null}, {\"yearmonth\": \"2017-03-01T00:00:00\", \"n\": 4940, \"3_month_rolling_average\": 4306.0, \"yoy_change\": null}, {\"yearmonth\": \"2017-04-01T00:00:00\", \"n\": 4070, \"3_month_rolling_average\": 4333.333333333333, \"yoy_change\": null}, {\"yearmonth\": \"2017-05-01T00:00:00\", \"n\": 4117, \"3_month_rolling_average\": 4375.666666666667, \"yoy_change\": null}, {\"yearmonth\": \"2017-06-01T00:00:00\", \"n\": 3917, \"3_month_rolling_average\": 4034.6666666666665, \"yoy_change\": null}, {\"yearmonth\": \"2017-07-01T00:00:00\", \"n\": 3612, \"3_month_rolling_average\": 3882.0, \"yoy_change\": null}, {\"yearmonth\": \"2017-08-01T00:00:00\", \"n\": 3883, \"3_month_rolling_average\": 3804.0, \"yoy_change\": 1288.0}, {\"yearmonth\": \"2017-09-01T00:00:00\", \"n\": 3118, \"3_month_rolling_average\": 3537.6666666666665, \"yoy_change\": -5592.0}, {\"yearmonth\": \"2017-10-01T00:00:00\", \"n\": 3355, \"3_month_rolling_average\": 3452.0, \"yoy_change\": -1077.0}, {\"yearmonth\": \"2017-11-01T00:00:00\", \"n\": 2984, \"3_month_rolling_average\": 3152.3333333333335, \"yoy_change\": -310.0}, {\"yearmonth\": \"2017-12-01T00:00:00\", \"n\": 2933, \"3_month_rolling_average\": 3090.6666666666665, \"yoy_change\": -229.0}, {\"yearmonth\": \"2018-01-01T00:00:00\", \"n\": 3498, \"3_month_rolling_average\": 3138.3333333333335, \"yoy_change\": -490.0}, {\"yearmonth\": \"2018-02-01T00:00:00\", \"n\": 3724, \"3_month_rolling_average\": 3385.0, \"yoy_change\": -266.0}, {\"yearmonth\": \"2018-03-01T00:00:00\", \"n\": 4286, \"3_month_rolling_average\": 3836.0, \"yoy_change\": -654.0}, {\"yearmonth\": \"2018-04-01T00:00:00\", \"n\": 3966, \"3_month_rolling_average\": 3992.0, \"yoy_change\": -104.0}, {\"yearmonth\": \"2018-05-01T00:00:00\", \"n\": 4014, \"3_month_rolling_average\": 4088.6666666666665, \"yoy_change\": -103.0}, {\"yearmonth\": \"2018-06-01T00:00:00\", \"n\": 3639, \"3_month_rolling_average\": 3873.0, \"yoy_change\": -278.0}, {\"yearmonth\": \"2018-07-01T00:00:00\", \"n\": 3590, \"3_month_rolling_average\": 3747.6666666666665, \"yoy_change\": -22.0}, {\"yearmonth\": \"2018-08-01T00:00:00\", \"n\": 3868, \"3_month_rolling_average\": 3699.0, \"yoy_change\": -15.0}, {\"yearmonth\": \"2018-09-01T00:00:00\", \"n\": 3336, \"3_month_rolling_average\": 3598.0, \"yoy_change\": 218.0}, {\"yearmonth\": \"2018-10-01T00:00:00\", \"n\": 3392, \"3_month_rolling_average\": 3532.0, \"yoy_change\": 37.0}, {\"yearmonth\": \"2018-11-01T00:00:00\", \"n\": 2977, \"3_month_rolling_average\": 3235.0, \"yoy_change\": -7.0}, {\"yearmonth\": \"2018-12-01T00:00:00\", \"n\": 2522, \"3_month_rolling_average\": 2963.6666666666665, \"yoy_change\": -411.0}, {\"yearmonth\": \"2019-01-01T00:00:00\", \"n\": 2499, \"3_month_rolling_average\": 2666.0, \"yoy_change\": -999.0}, {\"yearmonth\": \"2019-02-01T00:00:00\", \"n\": 4352, \"3_month_rolling_average\": 3124.3333333333335, \"yoy_change\": 628.0}, {\"yearmonth\": \"2019-03-01T00:00:00\", \"n\": 4475, \"3_month_rolling_average\": 3775.3333333333335, \"yoy_change\": 189.0}, {\"yearmonth\": \"2019-04-01T00:00:00\", \"n\": 4381, \"3_month_rolling_average\": 4402.666666666667, \"yoy_change\": 415.0}, {\"yearmonth\": \"2019-05-01T00:00:00\", \"n\": 4456, \"3_month_rolling_average\": 4437.333333333333, \"yoy_change\": 442.0}, {\"yearmonth\": \"2019-06-01T00:00:00\", \"n\": 4289, \"3_month_rolling_average\": 4375.333333333333, \"yoy_change\": 650.0}, {\"yearmonth\": \"2019-07-01T00:00:00\", \"n\": 4143, \"3_month_rolling_average\": 4296.0, \"yoy_change\": 553.0}, {\"yearmonth\": \"2019-08-01T00:00:00\", \"n\": 4021, \"3_month_rolling_average\": 4151.0, \"yoy_change\": 153.0}, {\"yearmonth\": \"2019-09-01T00:00:00\", \"n\": 4012, \"3_month_rolling_average\": 4058.6666666666665, \"yoy_change\": 676.0}, {\"yearmonth\": \"2019-10-01T00:00:00\", \"n\": 3617, \"3_month_rolling_average\": 3883.3333333333335, \"yoy_change\": 225.0}, {\"yearmonth\": \"2019-11-01T00:00:00\", \"n\": 3234, \"3_month_rolling_average\": 3621.0, \"yoy_change\": 257.0}, {\"yearmonth\": \"2019-12-01T00:00:00\", \"n\": 3144, \"3_month_rolling_average\": 3331.6666666666665, \"yoy_change\": 622.0}, {\"yearmonth\": \"2020-01-01T00:00:00\", \"n\": 3860, \"3_month_rolling_average\": 3412.6666666666665, \"yoy_change\": 1361.0}, {\"yearmonth\": \"2020-02-01T00:00:00\", \"n\": 4106, \"3_month_rolling_average\": 3703.3333333333335, \"yoy_change\": -246.0}, {\"yearmonth\": \"2020-03-01T00:00:00\", \"n\": 3313, \"3_month_rolling_average\": 3759.6666666666665, \"yoy_change\": -1162.0}, {\"yearmonth\": \"2020-04-01T00:00:00\", \"n\": 1820, \"3_month_rolling_average\": 3079.6666666666665, \"yoy_change\": -2561.0}, {\"yearmonth\": \"2020-05-01T00:00:00\", \"n\": 3056, \"3_month_rolling_average\": 2729.6666666666665, \"yoy_change\": -1400.0}, {\"yearmonth\": \"2020-06-01T00:00:00\", \"n\": 4179, \"3_month_rolling_average\": 3018.3333333333335, \"yoy_change\": -110.0}, {\"yearmonth\": \"2020-07-01T00:00:00\", \"n\": 4426, \"3_month_rolling_average\": 3887.0, \"yoy_change\": 283.0}, {\"yearmonth\": \"2020-08-01T00:00:00\", \"n\": 4734, \"3_month_rolling_average\": 4446.333333333333, \"yoy_change\": 713.0}, {\"yearmonth\": \"2020-09-01T00:00:00\", \"n\": 4335, \"3_month_rolling_average\": 4498.333333333333, \"yoy_change\": 323.0}, {\"yearmonth\": \"2020-10-01T00:00:00\", \"n\": 4188, \"3_month_rolling_average\": 4419.0, \"yoy_change\": 571.0}, {\"yearmonth\": \"2020-11-01T00:00:00\", \"n\": 3482, \"3_month_rolling_average\": 4001.6666666666665, \"yoy_change\": 248.0}, {\"yearmonth\": \"2020-12-01T00:00:00\", \"n\": 3901, \"3_month_rolling_average\": 3857.0, \"yoy_change\": 757.0}, {\"yearmonth\": \"2021-01-01T00:00:00\", \"n\": 4324, \"3_month_rolling_average\": 3902.3333333333335, \"yoy_change\": 464.0}, {\"yearmonth\": \"2021-02-01T00:00:00\", \"n\": 4542, \"3_month_rolling_average\": 4255.666666666667, \"yoy_change\": 436.0}, {\"yearmonth\": \"2021-03-01T00:00:00\", \"n\": 5664, \"3_month_rolling_average\": 4843.333333333333, \"yoy_change\": 2351.0}, {\"yearmonth\": \"2021-04-01T00:00:00\", \"n\": 5259, \"3_month_rolling_average\": 5155.0, \"yoy_change\": 3439.0}, {\"yearmonth\": \"2021-05-01T00:00:00\", \"n\": 5028, \"3_month_rolling_average\": 5317.0, \"yoy_change\": 1972.0}, {\"yearmonth\": \"2021-06-01T00:00:00\", \"n\": 5013, \"3_month_rolling_average\": 5100.0, \"yoy_change\": 834.0}, {\"yearmonth\": \"2021-07-01T00:00:00\", \"n\": 4571, \"3_month_rolling_average\": 4870.666666666667, \"yoy_change\": 145.0}, {\"yearmonth\": \"2021-08-01T00:00:00\", \"n\": 4794, \"3_month_rolling_average\": 4792.666666666667, \"yoy_change\": 60.0}, {\"yearmonth\": \"2021-09-01T00:00:00\", \"n\": 4079, \"3_month_rolling_average\": 4481.333333333333, \"yoy_change\": -256.0}, {\"yearmonth\": \"2021-10-01T00:00:00\", \"n\": 3944, \"3_month_rolling_average\": 4272.333333333333, \"yoy_change\": -244.0}, {\"yearmonth\": \"2021-11-01T00:00:00\", \"n\": 3661, \"3_month_rolling_average\": 3894.6666666666665, \"yoy_change\": 179.0}, {\"yearmonth\": \"2021-12-01T00:00:00\", \"n\": 3843, \"3_month_rolling_average\": 3816.0, \"yoy_change\": -58.0}, {\"yearmonth\": \"2022-01-01T00:00:00\", \"n\": 4234, \"3_month_rolling_average\": 3912.6666666666665, \"yoy_change\": -90.0}, {\"yearmonth\": \"2022-02-01T00:00:00\", \"n\": 4448, \"3_month_rolling_average\": 4175.0, \"yoy_change\": -94.0}, {\"yearmonth\": \"2022-03-01T00:00:00\", \"n\": 5458, \"3_month_rolling_average\": 4713.333333333333, \"yoy_change\": -206.0}, {\"yearmonth\": \"2022-04-01T00:00:00\", \"n\": 4875, \"3_month_rolling_average\": 4927.0, \"yoy_change\": -384.0}, {\"yearmonth\": \"2022-05-01T00:00:00\", \"n\": 5414, \"3_month_rolling_average\": 5249.0, \"yoy_change\": 386.0}, {\"yearmonth\": \"2022-06-01T00:00:00\", \"n\": 5010, \"3_month_rolling_average\": 5099.666666666667, \"yoy_change\": -3.0}, {\"yearmonth\": \"2022-07-01T00:00:00\", \"n\": 4699, \"3_month_rolling_average\": 5041.0, \"yoy_change\": 128.0}]}}, {\"mode\": \"vega-lite\"});\n",
       "</script>"
      ],
      "text/plain": [
       "alt.LayerChart(...)"
      ]
     },
     "execution_count": 233,
     "metadata": {},
     "output_type": "execute_result"
    }
   ],
   "source": [
    "chart = alt.Chart(trimmed_yearmonth).encode(\n",
    "    x=alt.X(\n",
    "        \"yearmonth:T\",\n",
    "        title=None,\n",
    "        timeUnit=\"yearmonth\",\n",
    "    ),\n",
    ")\n",
    "    \n",
    "bars = chart.mark_bar(opacity=0.8).encode(\n",
    "    y=alt.Y(\"n:Q\", title=None),\n",
    "    tooltip=[\"yearmonth\", \"n\"]\n",
    ")\n",
    "\n",
    "line = chart.mark_line(color=altair_theme.palette['ramp'][3]).encode(\n",
    "    y=alt.Y(\"3_month_rolling_average:Q\")\n",
    ")\n",
    "\n",
    "(bars + line).properties(\n",
    "    title=\"New FAA drone licenses by month\",\n",
    "    width=500\n",
    ").configure_axisX(grid=False)"
   ]
  },
  {
   "cell_type": "code",
   "execution_count": 234,
   "id": "870fc351-d571-40db-a81b-fc50648afdc4",
   "metadata": {},
   "outputs": [
    {
     "data": {
      "text/html": [
       "\n",
       "<div id=\"altair-viz-fb666981b7d543948f0f79db8b4843ff\"></div>\n",
       "<script type=\"text/javascript\">\n",
       "  var VEGA_DEBUG = (typeof VEGA_DEBUG == \"undefined\") ? {} : VEGA_DEBUG;\n",
       "  (function(spec, embedOpt){\n",
       "    let outputDiv = document.currentScript.previousElementSibling;\n",
       "    if (outputDiv.id !== \"altair-viz-fb666981b7d543948f0f79db8b4843ff\") {\n",
       "      outputDiv = document.getElementById(\"altair-viz-fb666981b7d543948f0f79db8b4843ff\");\n",
       "    }\n",
       "    const paths = {\n",
       "      \"vega\": \"https://cdn.jsdelivr.net/npm//vega@5?noext\",\n",
       "      \"vega-lib\": \"https://cdn.jsdelivr.net/npm//vega-lib?noext\",\n",
       "      \"vega-lite\": \"https://cdn.jsdelivr.net/npm//vega-lite@4.17.0?noext\",\n",
       "      \"vega-embed\": \"https://cdn.jsdelivr.net/npm//vega-embed@6?noext\",\n",
       "    };\n",
       "\n",
       "    function maybeLoadScript(lib, version) {\n",
       "      var key = `${lib.replace(\"-\", \"\")}_version`;\n",
       "      return (VEGA_DEBUG[key] == version) ?\n",
       "        Promise.resolve(paths[lib]) :\n",
       "        new Promise(function(resolve, reject) {\n",
       "          var s = document.createElement('script');\n",
       "          document.getElementsByTagName(\"head\")[0].appendChild(s);\n",
       "          s.async = true;\n",
       "          s.onload = () => {\n",
       "            VEGA_DEBUG[key] = version;\n",
       "            return resolve(paths[lib]);\n",
       "          };\n",
       "          s.onerror = () => reject(`Error loading script: ${paths[lib]}`);\n",
       "          s.src = paths[lib];\n",
       "        });\n",
       "    }\n",
       "\n",
       "    function showError(err) {\n",
       "      outputDiv.innerHTML = `<div class=\"error\" style=\"color:red;\">${err}</div>`;\n",
       "      throw err;\n",
       "    }\n",
       "\n",
       "    function displayChart(vegaEmbed) {\n",
       "      vegaEmbed(outputDiv, spec, embedOpt)\n",
       "        .catch(err => showError(`Javascript Error: ${err.message}<br>This usually means there's a typo in your chart specification. See the javascript console for the full traceback.`));\n",
       "    }\n",
       "\n",
       "    if(typeof define === \"function\" && define.amd) {\n",
       "      requirejs.config({paths});\n",
       "      require([\"vega-embed\"], displayChart, err => showError(`Error loading script: ${err.message}`));\n",
       "    } else {\n",
       "      maybeLoadScript(\"vega\", \"5\")\n",
       "        .then(() => maybeLoadScript(\"vega-lite\", \"4.17.0\"))\n",
       "        .then(() => maybeLoadScript(\"vega-embed\", \"6\"))\n",
       "        .catch(showError)\n",
       "        .then(() => displayChart(vegaEmbed));\n",
       "    }\n",
       "  })({\"config\": {\"view\": {\"width\": 500, \"height\": 300, \"stroke\": 0}, \"padding\": {\"top\": 15, \"bottom\": 15, \"left\": 10, \"right\": 10}, \"background\": \"#ffffff\", \"title\": {\"anchor\": \"start\", \"font\": \"\\\"Libre Franklin\\\",\\\"Helvetica\\\",\\\"Liberation Sans\\\",Arial,sans-serif\", \"color\": \"#000000\", \"fontSize\": 20, \"fontWeight\": \"bold\", \"lineHeight\": 26, \"subtitleFont\": \"\\\"Libre Franklin\\\",\\\"Helvetica\\\",\\\"Liberation Sans\\\",Arial,sans-serif\", \"subtitleFontSize\": 14, \"subtitleLineHeight\": 18, \"subtitlePadding\": 5, \"offset\": 20}, \"arc\": {\"fill\": \"#cecece\"}, \"area\": {\"fill\": \"#cecece\"}, \"line\": {\"stroke\": \"#cecece\", \"strokeWidth\": 3}, \"path\": {\"stroke\": \"#cecece\"}, \"rect\": {\"fill\": \"#cecece\"}, \"bar\": {\"fill\": \"#cecece\"}, \"point\": {\"stroke\": \"#cecece\"}, \"axis\": {\"titleFont\": \"\\\"Libre Franklin\\\",\\\"Helvetica\\\",\\\"Liberation Sans\\\",Arial,sans-serif\", \"titleFontSize\": 14, \"titleFontWeight\": \"normal\", \"labelFont\": \"\\\"Libre Franklin\\\",\\\"Helvetica\\\",\\\"Liberation Sans\\\",Arial,sans-serif\", \"labelFontSize\": 12, \"labelFontWeight\": \"normal\", \"tickColor\": \"#727272\", \"labelColor\": \"#727272\"}, \"axisX\": {\"labelAngle\": 0, \"labelPadding\": 10, \"labelFlush\": true, \"tickSize\": 0, \"domain\": false, \"grid\": false}, \"axisY\": {\"labelBaseline\": \"middle\", \"labelPadding\": 5, \"labelFlush\": true, \"tickSize\": 0, \"titleAlign\": \"left\", \"titleAngle\": 0, \"titleX\": -45, \"titleY\": -11, \"domain\": false}, \"legend\": {\"titleFont\": \"\\\"Libre Franklin\\\",\\\"Helvetica\\\",\\\"Liberation Sans\\\",Arial,sans-serif\", \"titleFontSize\": 14, \"titleFontWeight\": \"normal\", \"symbolType\": \"square\", \"labelFont\": \"\\\"Libre Franklin\\\",\\\"Helvetica\\\",\\\"Liberation Sans\\\",Arial,sans-serif\", \"labelFontSize\": 13}, \"range\": {\"heatmap\": [\"#5e5e5e\", \"#727272\", \"#858585\", \"#989898\", \"#aaaaaa\", \"#bcbcbc\", \"#c4c4c4\", \"#cecece\", \"#e0e0e0\", \"#f0f0f0\", \"#ffffff\"], \"ordinal\": [\"#5e5e5e\", \"#727272\", \"#858585\", \"#989898\", \"#aaaaaa\", \"#bcbcbc\", \"#c4c4c4\", \"#cecece\", \"#e0e0e0\", \"#f0f0f0\", \"#ffffff\"], \"ramp\": [\"#5e5e5e\", \"#727272\", \"#858585\", \"#989898\", \"#aaaaaa\", \"#bcbcbc\", \"#c4c4c4\", \"#cecece\", \"#e0e0e0\", \"#f0f0f0\", \"#ffffff\"]}}, \"data\": {\"name\": \"data-601e449d91013aa64a2b4c84b996c03e\"}, \"mark\": {\"type\": \"bar\", \"color\": \"lightblue\"}, \"encoding\": {\"color\": {\"condition\": {\"value\": \"#aaaaaa\", \"test\": \"(datum.yoy_change > 0)\"}, \"value\": \"#727272\"}, \"tooltip\": [{\"field\": \"yearmonth\", \"type\": \"temporal\"}, {\"field\": \"n\", \"type\": \"quantitative\"}, {\"field\": \"yoy_change\", \"type\": \"quantitative\"}], \"x\": {\"field\": \"yearmonth\", \"timeUnit\": \"yearmonth\", \"title\": null, \"type\": \"temporal\"}, \"y\": {\"field\": \"yoy_change\", \"title\": null, \"type\": \"quantitative\"}}, \"title\": \"New FAA drone licenses year over year\", \"width\": 500, \"$schema\": \"https://vega.github.io/schema/vega-lite/v4.17.0.json\", \"datasets\": {\"data-601e449d91013aa64a2b4c84b996c03e\": [{\"yearmonth\": \"2019-01-01T00:00:00\", \"n\": 2499, \"3_month_rolling_average\": 2666.0, \"yoy_change\": -999.0}, {\"yearmonth\": \"2019-02-01T00:00:00\", \"n\": 4352, \"3_month_rolling_average\": 3124.3333333333335, \"yoy_change\": 628.0}, {\"yearmonth\": \"2019-03-01T00:00:00\", \"n\": 4475, \"3_month_rolling_average\": 3775.3333333333335, \"yoy_change\": 189.0}, {\"yearmonth\": \"2019-04-01T00:00:00\", \"n\": 4381, \"3_month_rolling_average\": 4402.666666666667, \"yoy_change\": 415.0}, {\"yearmonth\": \"2019-05-01T00:00:00\", \"n\": 4456, \"3_month_rolling_average\": 4437.333333333333, \"yoy_change\": 442.0}, {\"yearmonth\": \"2019-06-01T00:00:00\", \"n\": 4289, \"3_month_rolling_average\": 4375.333333333333, \"yoy_change\": 650.0}, {\"yearmonth\": \"2019-07-01T00:00:00\", \"n\": 4143, \"3_month_rolling_average\": 4296.0, \"yoy_change\": 553.0}, {\"yearmonth\": \"2019-08-01T00:00:00\", \"n\": 4021, \"3_month_rolling_average\": 4151.0, \"yoy_change\": 153.0}, {\"yearmonth\": \"2019-09-01T00:00:00\", \"n\": 4012, \"3_month_rolling_average\": 4058.6666666666665, \"yoy_change\": 676.0}, {\"yearmonth\": \"2019-10-01T00:00:00\", \"n\": 3617, \"3_month_rolling_average\": 3883.3333333333335, \"yoy_change\": 225.0}, {\"yearmonth\": \"2019-11-01T00:00:00\", \"n\": 3234, \"3_month_rolling_average\": 3621.0, \"yoy_change\": 257.0}, {\"yearmonth\": \"2019-12-01T00:00:00\", \"n\": 3144, \"3_month_rolling_average\": 3331.6666666666665, \"yoy_change\": 622.0}, {\"yearmonth\": \"2020-01-01T00:00:00\", \"n\": 3860, \"3_month_rolling_average\": 3412.6666666666665, \"yoy_change\": 1361.0}, {\"yearmonth\": \"2020-02-01T00:00:00\", \"n\": 4106, \"3_month_rolling_average\": 3703.3333333333335, \"yoy_change\": -246.0}, {\"yearmonth\": \"2020-03-01T00:00:00\", \"n\": 3313, \"3_month_rolling_average\": 3759.6666666666665, \"yoy_change\": -1162.0}, {\"yearmonth\": \"2020-04-01T00:00:00\", \"n\": 1820, \"3_month_rolling_average\": 3079.6666666666665, \"yoy_change\": -2561.0}, {\"yearmonth\": \"2020-05-01T00:00:00\", \"n\": 3056, \"3_month_rolling_average\": 2729.6666666666665, \"yoy_change\": -1400.0}, {\"yearmonth\": \"2020-06-01T00:00:00\", \"n\": 4179, \"3_month_rolling_average\": 3018.3333333333335, \"yoy_change\": -110.0}, {\"yearmonth\": \"2020-07-01T00:00:00\", \"n\": 4426, \"3_month_rolling_average\": 3887.0, \"yoy_change\": 283.0}, {\"yearmonth\": \"2020-08-01T00:00:00\", \"n\": 4734, \"3_month_rolling_average\": 4446.333333333333, \"yoy_change\": 713.0}, {\"yearmonth\": \"2020-09-01T00:00:00\", \"n\": 4335, \"3_month_rolling_average\": 4498.333333333333, \"yoy_change\": 323.0}, {\"yearmonth\": \"2020-10-01T00:00:00\", \"n\": 4188, \"3_month_rolling_average\": 4419.0, \"yoy_change\": 571.0}, {\"yearmonth\": \"2020-11-01T00:00:00\", \"n\": 3482, \"3_month_rolling_average\": 4001.6666666666665, \"yoy_change\": 248.0}, {\"yearmonth\": \"2020-12-01T00:00:00\", \"n\": 3901, \"3_month_rolling_average\": 3857.0, \"yoy_change\": 757.0}, {\"yearmonth\": \"2021-01-01T00:00:00\", \"n\": 4324, \"3_month_rolling_average\": 3902.3333333333335, \"yoy_change\": 464.0}, {\"yearmonth\": \"2021-02-01T00:00:00\", \"n\": 4542, \"3_month_rolling_average\": 4255.666666666667, \"yoy_change\": 436.0}, {\"yearmonth\": \"2021-03-01T00:00:00\", \"n\": 5664, \"3_month_rolling_average\": 4843.333333333333, \"yoy_change\": 2351.0}, {\"yearmonth\": \"2021-04-01T00:00:00\", \"n\": 5259, \"3_month_rolling_average\": 5155.0, \"yoy_change\": 3439.0}, {\"yearmonth\": \"2021-05-01T00:00:00\", \"n\": 5028, \"3_month_rolling_average\": 5317.0, \"yoy_change\": 1972.0}, {\"yearmonth\": \"2021-06-01T00:00:00\", \"n\": 5013, \"3_month_rolling_average\": 5100.0, \"yoy_change\": 834.0}, {\"yearmonth\": \"2021-07-01T00:00:00\", \"n\": 4571, \"3_month_rolling_average\": 4870.666666666667, \"yoy_change\": 145.0}, {\"yearmonth\": \"2021-08-01T00:00:00\", \"n\": 4794, \"3_month_rolling_average\": 4792.666666666667, \"yoy_change\": 60.0}, {\"yearmonth\": \"2021-09-01T00:00:00\", \"n\": 4079, \"3_month_rolling_average\": 4481.333333333333, \"yoy_change\": -256.0}, {\"yearmonth\": \"2021-10-01T00:00:00\", \"n\": 3944, \"3_month_rolling_average\": 4272.333333333333, \"yoy_change\": -244.0}, {\"yearmonth\": \"2021-11-01T00:00:00\", \"n\": 3661, \"3_month_rolling_average\": 3894.6666666666665, \"yoy_change\": 179.0}, {\"yearmonth\": \"2021-12-01T00:00:00\", \"n\": 3843, \"3_month_rolling_average\": 3816.0, \"yoy_change\": -58.0}, {\"yearmonth\": \"2022-01-01T00:00:00\", \"n\": 4234, \"3_month_rolling_average\": 3912.6666666666665, \"yoy_change\": -90.0}, {\"yearmonth\": \"2022-02-01T00:00:00\", \"n\": 4448, \"3_month_rolling_average\": 4175.0, \"yoy_change\": -94.0}, {\"yearmonth\": \"2022-03-01T00:00:00\", \"n\": 5458, \"3_month_rolling_average\": 4713.333333333333, \"yoy_change\": -206.0}, {\"yearmonth\": \"2022-04-01T00:00:00\", \"n\": 4875, \"3_month_rolling_average\": 4927.0, \"yoy_change\": -384.0}, {\"yearmonth\": \"2022-05-01T00:00:00\", \"n\": 5414, \"3_month_rolling_average\": 5249.0, \"yoy_change\": 386.0}, {\"yearmonth\": \"2022-06-01T00:00:00\", \"n\": 5010, \"3_month_rolling_average\": 5099.666666666667, \"yoy_change\": -3.0}, {\"yearmonth\": \"2022-07-01T00:00:00\", \"n\": 4699, \"3_month_rolling_average\": 5041.0, \"yoy_change\": 128.0}]}}, {\"mode\": \"vega-lite\"});\n",
       "</script>"
      ],
      "text/plain": [
       "alt.Chart(...)"
      ]
     },
     "execution_count": 234,
     "metadata": {},
     "output_type": "execute_result"
    }
   ],
   "source": [
    "chart = alt.Chart(trimmed_yearmonth[trimmed_yearmonth.yearmonth.dt.year > 2018]).encode(\n",
    "    x=alt.X(\"yearmonth:T\", title=None, timeUnit=\"yearmonth\"),\n",
    ")\n",
    "    \n",
    "bars = chart.mark_bar(color=\"lightblue\").encode(\n",
    "    y=alt.Y(\"yoy_change:Q\", title=None),\n",
    "    color=alt.condition(\n",
    "        alt.datum.yoy_change > 0,\n",
    "        alt.value(altair_theme.palette['ramp'][4]),  # The positive color\n",
    "        alt.value(altair_theme.palette['accent'])  # The negative color\n",
    "    ),\n",
    "    tooltip=[\"yearmonth\", \"n\", \"yoy_change\"]\n",
    ")\n",
    "\n",
    "(bars).properties(\n",
    "    title=\"New FAA drone licenses year over year\",\n",
    "    width=500\n",
    ").configure_axisX(grid=False)"
   ]
  },
  {
   "cell_type": "markdown",
   "id": "c8037d99-dcff-45e0-b85e-ffe94fd55172",
   "metadata": {},
   "source": [
    "## Export"
   ]
  },
  {
   "cell_type": "code",
   "execution_count": 235,
   "id": "5608e7d3-b969-414d-852d-200cf896a633",
   "metadata": {},
   "outputs": [],
   "source": [
    "df.to_csv(\"output/licenses.csv\", index=False)"
   ]
  },
  {
   "cell_type": "code",
   "execution_count": 236,
   "id": "2c38e286-6d06-4519-9358-44877b6661f0",
   "metadata": {},
   "outputs": [],
   "source": [
    "by_yearmonth.to_csv(\"output/monthly-totals.csv\", index=False)"
   ]
  }
 ],
 "metadata": {
  "kernelspec": {
   "display_name": "Python 3 (ipykernel)",
   "language": "python",
   "name": "python3"
  },
  "language_info": {
   "codemirror_mode": {
    "name": "ipython",
    "version": 3
   },
   "file_extension": ".py",
   "mimetype": "text/x-python",
   "name": "python",
   "nbconvert_exporter": "python",
   "pygments_lexer": "ipython3",
   "version": "3.9.2"
  }
 },
 "nbformat": 4,
 "nbformat_minor": 5
}
